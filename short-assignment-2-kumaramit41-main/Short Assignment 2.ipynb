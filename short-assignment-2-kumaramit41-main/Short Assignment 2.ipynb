{
 "cells": [
  {
   "cell_type": "markdown",
   "metadata": {},
   "source": [
    "# Short Assignment 2\n",
    "\n",
    "This is an individual assignment.\n",
    "\n",
    "**Due: Tuesday, October 4 @ 11:59pm**"
   ]
  },
  {
   "cell_type": "markdown",
   "metadata": {},
   "source": [
    "## Crab Dataset Description\n",
    "\n",
    "The Crab Data Set has 200 samples and 7 features (Frontal Lip, Rear Width, Length, Width, Depth, Male and Female), describing 5 morphological measurements on 50 crabs each of two color forms and both sexes, of the species *Leptograpsus* variegatus collected at Fremantle, W. Australia.\n",
    "\n",
    "* Dataset Source: Campbell, N.A. and Mahon, R.J. (1974) A multivariate study of variation in two species of rock crab of genus *Leptograpsus*. *Australian Journal of Zoology* 22, 417–425.\n",
    "\n",
    "The data set is saved in the file \"crab.txt\": the firt column corresponds to the class label (crab species) and the other 7 columns correspond to the features.\n",
    "\n",
    "**Use the first 140 samples as your training set and the last 60 samples as your test set.**"
   ]
  },
  {
   "cell_type": "code",
   "execution_count": 1,
   "metadata": {},
   "outputs": [
    {
     "data": {
      "text/html": [
       "<div>\n",
       "<style scoped>\n",
       "    .dataframe tbody tr th:only-of-type {\n",
       "        vertical-align: middle;\n",
       "    }\n",
       "\n",
       "    .dataframe tbody tr th {\n",
       "        vertical-align: top;\n",
       "    }\n",
       "\n",
       "    .dataframe thead th {\n",
       "        text-align: right;\n",
       "    }\n",
       "</style>\n",
       "<table border=\"1\" class=\"dataframe\">\n",
       "  <thead>\n",
       "    <tr style=\"text-align: right;\">\n",
       "      <th></th>\n",
       "      <th>Species</th>\n",
       "      <th>FrontalLip</th>\n",
       "      <th>RearWidth</th>\n",
       "      <th>Length</th>\n",
       "      <th>Width</th>\n",
       "      <th>Depth</th>\n",
       "      <th>Male</th>\n",
       "      <th>Female</th>\n",
       "    </tr>\n",
       "  </thead>\n",
       "  <tbody>\n",
       "    <tr>\n",
       "      <th>0</th>\n",
       "      <td>0</td>\n",
       "      <td>20.6</td>\n",
       "      <td>14.4</td>\n",
       "      <td>42.8</td>\n",
       "      <td>46.5</td>\n",
       "      <td>19.6</td>\n",
       "      <td>1</td>\n",
       "      <td>0</td>\n",
       "    </tr>\n",
       "    <tr>\n",
       "      <th>1</th>\n",
       "      <td>1</td>\n",
       "      <td>13.3</td>\n",
       "      <td>11.1</td>\n",
       "      <td>27.8</td>\n",
       "      <td>32.3</td>\n",
       "      <td>11.3</td>\n",
       "      <td>1</td>\n",
       "      <td>0</td>\n",
       "    </tr>\n",
       "    <tr>\n",
       "      <th>2</th>\n",
       "      <td>0</td>\n",
       "      <td>16.7</td>\n",
       "      <td>14.3</td>\n",
       "      <td>32.3</td>\n",
       "      <td>37.0</td>\n",
       "      <td>14.7</td>\n",
       "      <td>0</td>\n",
       "      <td>1</td>\n",
       "    </tr>\n",
       "    <tr>\n",
       "      <th>3</th>\n",
       "      <td>1</td>\n",
       "      <td>9.8</td>\n",
       "      <td>8.9</td>\n",
       "      <td>20.4</td>\n",
       "      <td>23.9</td>\n",
       "      <td>8.8</td>\n",
       "      <td>0</td>\n",
       "      <td>1</td>\n",
       "    </tr>\n",
       "    <tr>\n",
       "      <th>4</th>\n",
       "      <td>0</td>\n",
       "      <td>15.6</td>\n",
       "      <td>14.1</td>\n",
       "      <td>31.0</td>\n",
       "      <td>34.5</td>\n",
       "      <td>13.8</td>\n",
       "      <td>0</td>\n",
       "      <td>1</td>\n",
       "    </tr>\n",
       "    <tr>\n",
       "      <th>...</th>\n",
       "      <td>...</td>\n",
       "      <td>...</td>\n",
       "      <td>...</td>\n",
       "      <td>...</td>\n",
       "      <td>...</td>\n",
       "      <td>...</td>\n",
       "      <td>...</td>\n",
       "      <td>...</td>\n",
       "    </tr>\n",
       "    <tr>\n",
       "      <th>195</th>\n",
       "      <td>1</td>\n",
       "      <td>12.3</td>\n",
       "      <td>11.0</td>\n",
       "      <td>26.8</td>\n",
       "      <td>31.5</td>\n",
       "      <td>11.4</td>\n",
       "      <td>1</td>\n",
       "      <td>0</td>\n",
       "    </tr>\n",
       "    <tr>\n",
       "      <th>196</th>\n",
       "      <td>1</td>\n",
       "      <td>12.0</td>\n",
       "      <td>11.1</td>\n",
       "      <td>25.4</td>\n",
       "      <td>29.2</td>\n",
       "      <td>11.0</td>\n",
       "      <td>0</td>\n",
       "      <td>1</td>\n",
       "    </tr>\n",
       "    <tr>\n",
       "      <th>197</th>\n",
       "      <td>1</td>\n",
       "      <td>8.8</td>\n",
       "      <td>7.7</td>\n",
       "      <td>18.1</td>\n",
       "      <td>20.8</td>\n",
       "      <td>7.4</td>\n",
       "      <td>1</td>\n",
       "      <td>0</td>\n",
       "    </tr>\n",
       "    <tr>\n",
       "      <th>198</th>\n",
       "      <td>1</td>\n",
       "      <td>16.2</td>\n",
       "      <td>15.2</td>\n",
       "      <td>34.5</td>\n",
       "      <td>40.1</td>\n",
       "      <td>13.9</td>\n",
       "      <td>0</td>\n",
       "      <td>1</td>\n",
       "    </tr>\n",
       "    <tr>\n",
       "      <th>199</th>\n",
       "      <td>0</td>\n",
       "      <td>15.6</td>\n",
       "      <td>14.0</td>\n",
       "      <td>31.6</td>\n",
       "      <td>35.3</td>\n",
       "      <td>13.8</td>\n",
       "      <td>0</td>\n",
       "      <td>1</td>\n",
       "    </tr>\n",
       "  </tbody>\n",
       "</table>\n",
       "<p>200 rows × 8 columns</p>\n",
       "</div>"
      ],
      "text/plain": [
       "     Species  FrontalLip  RearWidth  Length  Width  Depth  Male  Female\n",
       "0          0        20.6       14.4    42.8   46.5   19.6     1       0\n",
       "1          1        13.3       11.1    27.8   32.3   11.3     1       0\n",
       "2          0        16.7       14.3    32.3   37.0   14.7     0       1\n",
       "3          1         9.8        8.9    20.4   23.9    8.8     0       1\n",
       "4          0        15.6       14.1    31.0   34.5   13.8     0       1\n",
       "..       ...         ...        ...     ...    ...    ...   ...     ...\n",
       "195        1        12.3       11.0    26.8   31.5   11.4     1       0\n",
       "196        1        12.0       11.1    25.4   29.2   11.0     0       1\n",
       "197        1         8.8        7.7    18.1   20.8    7.4     1       0\n",
       "198        1        16.2       15.2    34.5   40.1   13.9     0       1\n",
       "199        0        15.6       14.0    31.6   35.3   13.8     0       1\n",
       "\n",
       "[200 rows x 8 columns]"
      ]
     },
     "execution_count": 1,
     "metadata": {},
     "output_type": "execute_result"
    }
   ],
   "source": [
    "import pandas as pd\n",
    "data = pd.read_csv(\"crab.txt\", delimiter=\"\\t\")\n",
    "\n",
    "data"
   ]
  },
  {
   "cell_type": "markdown",
   "metadata": {},
   "source": [
    "## Problem Set\n",
    "\n",
    "Answer the following questions:\n",
    "\n",
    "1. Implement the Naive Bayes classifier, under the assumption that your data likelihood model $p(x|C_j)$ is a multivariate Gaussian and the prior probabilities $p(C_j)$ are dictated by the number of samples $n_j\\in\\mathbb{R}$ that you have for each class. Build your own code to implement the classifier.\n",
    "\n",
    "2. Did you encounter any problems when implementing the probabilistic generative model? What is your solution for the problem? Explain why your solution works. (Note: There is more than one solution.)\n",
    "\n",
    "3. Report your classification results in terms of a confusion matrix in both training and test set. (You can use the function [```confusion_matrix```](https://scikit-learn.org/stable/modules/generated/sklearn.metrics.confusion_matrix.html) from the module ```sklearn.metrics```.)"
   ]
  },
  {
   "cell_type": "code",
   "execution_count": 2,
   "metadata": {},
   "outputs": [],
   "source": [
    "import numpy as np\n",
    "import matplotlib.pyplot as plt\n",
    "%matplotlib inline\n",
    "from sklearn.metrics import confusion_matrix\n",
    "import scipy.stats as stats"
   ]
  },
  {
   "cell_type": "code",
   "execution_count": 3,
   "metadata": {},
   "outputs": [
    {
     "name": "stdout",
     "output_type": "stream",
     "text": [
      "     Species  FrontalLip  RearWidth  Length  Width  Depth  Male  Female\n",
      "0          0        20.6       14.4    42.8   46.5   19.6     1       0\n",
      "1          1        13.3       11.1    27.8   32.3   11.3     1       0\n",
      "2          0        16.7       14.3    32.3   37.0   14.7     0       1\n",
      "3          1         9.8        8.9    20.4   23.9    8.8     0       1\n",
      "4          0        15.6       14.1    31.0   34.5   13.8     0       1\n",
      "..       ...         ...        ...     ...    ...    ...   ...     ...\n",
      "135        0        20.0       16.7    40.4   45.1   17.7     0       1\n",
      "136        1        15.7       13.9    33.6   38.5   14.1     0       1\n",
      "137        0        18.6       13.5    36.9   40.2   17.0     1       0\n",
      "138        1        14.7       12.5    30.1   34.7   12.5     0       1\n",
      "139        0        16.1       13.7    31.4   36.1   13.9     0       1\n",
      "\n",
      "[140 rows x 8 columns]\n"
     ]
    }
   ],
   "source": [
    "data_Train = data.iloc[:140,:]\n",
    "print(data_Train)\n",
    "data_Test = data.iloc[140:,:]\n",
    "#print(data_Test)"
   ]
  },
  {
   "cell_type": "code",
   "execution_count": 4,
   "metadata": {
    "scrolled": true
   },
   "outputs": [
    {
     "name": "stdout",
     "output_type": "stream",
     "text": [
      "Mean for crab :  [14.03529412 11.84705882 30.08676471 34.73382353 12.56764706  0.51470588\n",
      "  0.48529412]\n",
      "Mean for not a crab:  [17.10555556 13.62083333 34.1375     38.10277778 15.46527778  0.51388889\n",
      "  0.48611111]\n",
      "Cov for crab:  [[ 9.21903424  5.97159789 21.19107112 24.21281826  9.46712906  0.56365233\n",
      "  -0.56365233]\n",
      " [ 5.97159789  4.57118525 13.72510975 15.78868306  6.24841089  0.06944688\n",
      "  -0.06944688]\n",
      " [21.19107112 13.72510975 49.21638938 56.12493196 21.88956541  1.40094381\n",
      "  -1.40094381]\n",
      " [24.21281826 15.78868306 56.12493196 64.1691374  25.01991659  1.52561457\n",
      "  -1.52561457]\n",
      " [ 9.46712906  6.24841089 21.88956541 25.01991659  9.89117647  0.55122915\n",
      "  -0.55122915]\n",
      " [ 0.56365233  0.06944688  1.40094381  1.52561457  0.55122915  0.25351185\n",
      "  -0.25351185]\n",
      " [-0.56365233 -0.06944688 -1.40094381 -1.52561457 -0.55122915 -0.25351185\n",
      "   0.25351185]]\n",
      "Cov for not a crab:  [[ 9.29827856  7.23185446 18.83640845 21.15223787  8.68850548 -0.43106416\n",
      "   0.43106416]\n",
      " [ 7.23185446  6.85913732 14.3518838  16.57768779  6.55777582 -0.79254695\n",
      "   0.79254695]\n",
      " [18.83640845 14.3518838  38.99167254 43.51876761 18.02005282 -0.63644366\n",
      "   0.63644366]\n",
      " [21.15223787 16.57768779 43.51876761 48.98168232 20.07671753 -0.92539124\n",
      "   0.92539124]\n",
      " [ 8.68850548  6.55777582 18.02005282 20.07671753  8.43948161 -0.26218701\n",
      "   0.26218701]\n",
      " [-0.43106416 -0.79254695 -0.63644366 -0.92539124 -0.26218701  0.25332551\n",
      "  -0.25332551]\n",
      " [ 0.43106416  0.79254695  0.63644366  0.92539124  0.26218701 -0.25332551\n",
      "   0.25332551]]\n",
      "68\n",
      "72\n",
      "Probability of crab:  0.4857142857142857\n",
      "Probability of not a crab: 0.5142857142857142\n"
     ]
    }
   ],
   "source": [
    "#Estimate parameters \n",
    "#Means\n",
    "mu1 = np.mean(np.array(data_Train[(data_Train['Species']==1)])[:,1:],axis = 0)\n",
    "print(\"Mean for crab : \",mu1)\n",
    "mu2 = np.mean(np.array(data_Train[(data_Train['Species']==0)])[:,1:],axis = 0)\n",
    "print(\"Mean for not a crab: \",mu2)\n",
    "\n",
    "#Covariance\n",
    "cov1 = np.cov((np.array(data_Train[(data_Train['Species']==1)])[:,1:]).T)\n",
    "print(\"Cov for crab: \",cov1)\n",
    "cov2 = np.cov((np.array(data_Train[(data_Train['Species']==0)])[:,1:]).T)\n",
    "print(\"Cov for not a crab: \",cov2)\n",
    "\n",
    "### Estimate Prior Probability\n",
    "\n",
    "N1 = len(np.array(data_Train[(data_Train['Species']==1)]))\n",
    "print(N1)\n",
    "N2 = len(np.array(data_Train[(data_Train['Species']==0)]))\n",
    "print(N2)\n",
    "\n",
    "N = N1+N2\n",
    "p1 = N1/N\n",
    "print(\"Probability of crab: \",p1)\n",
    "p2 = N2/N\n",
    "print(\"Probability of not a crab:\",p2)\n"
   ]
  },
  {
   "cell_type": "code",
   "execution_count": 5,
   "metadata": {},
   "outputs": [],
   "source": [
    "new_cov1 = cov1 + np.eye(cov1.shape[0])*1e-4\n",
    "\n",
    "new_cov2 = cov2 + np.eye(cov2.shape[0])*1e-4"
   ]
  },
  {
   "cell_type": "code",
   "execution_count": 6,
   "metadata": {},
   "outputs": [
    {
     "name": "stdout",
     "output_type": "stream",
     "text": [
      "Data likelihoods:\n",
      "P(x|C1) =  8.677474513855524e-06\n",
      "P(x|C2) =  0.08149039023740824 \n",
      "\n",
      "Posterior probabilities:\n",
      "P(C1|x) =  0.0001005587094925225\n",
      "P(C2|x) =  0.9998994412905075 \n",
      "\n",
      "x =  [15.6, 14.0, 31.6, 35.8, 13.8, 0, 1]  belongs to class 0\n"
     ]
    }
   ],
   "source": [
    "x = [15.6,14.0,31.6,35.8,13.8,0,1]\n",
    "\n",
    "# Data Likelihoods\n",
    "y1_newPoint = stats.multivariate_normal.pdf(x, mean=mu1, cov=new_cov1) #np.multiply(np.eye(7),cov1)) #P(x|C1)\n",
    "y2_newPoint = stats.multivariate_normal.pdf(x, mean=mu2, cov=new_cov2) #np.multiply(np.eye(7),cov2)) #P(x|C2)\n",
    "\n",
    "print('Data likelihoods:')\n",
    "print('P(x|C1) = ', y1_newPoint)\n",
    "print('P(x|C2) = ', y2_newPoint,'\\n')\n",
    "\n",
    "# Posterior Probabilities\n",
    "y1_pos = y1_newPoint*p1 / (y1_newPoint*p1 + y2_newPoint*p2) #P(C1|x)\n",
    "y2_pos =  y2_newPoint*p2 / (y1_newPoint*p1 + y2_newPoint*p2) #P(C2|x)\n",
    "\n",
    "print('Posterior probabilities:')\n",
    "print('P(C1|x) = ', y1_pos)\n",
    "print('P(C2|x) = ', y2_pos,'\\n')\n",
    "\n",
    "if y1_pos > y2_pos:\n",
    "    print('x = ',x,' belongs to class 1')\n",
    "else:\n",
    "    print('x = ',x,' belongs to class 0')"
   ]
  },
  {
   "cell_type": "markdown",
   "metadata": {},
   "source": [
    "Yes, I faced a problem while trying to load cov matrix into the stats.multivariate_normal.pdf for data likelihood of the new value,it gave an LinAlgErroe : singular matrix.To solve this problem I used to approached  loaded the data diagonally by adding covmatrix and identity matrix of same size multplied by some constant and the second approach was element wise multiplication of cov matrix with identity matrix of same size doing this all values except the values of sigma^2 (varinace) becomes zero. Both the appraoches worked for me and produced accurate results."
   ]
  },
  {
   "cell_type": "code",
   "execution_count": 7,
   "metadata": {},
   "outputs": [],
   "source": [
    "def output(x,mu1,mu2,cov1,cov2):\n",
    "    \n",
    "    y = np.zeros(x.shape[0]);\n",
    "    \n",
    "    for i in range((x.shape[0])):\n",
    "        \n",
    "        y1_newPoint = stats.multivariate_normal.pdf(x[i], mean=mu1, cov=cov1) #np.multiply(np.eye(7),cov1)) #P(x|C1)\n",
    "        y2_newPoint = stats.multivariate_normal.pdf(x[i], mean=mu2, cov=cov2) #np.multiply(np.eye(7),cov2)) #P(x|C2)\n",
    "\n",
    "        #print('Data likelihoods:')\n",
    "        #print('P(x|C1) = ', y1_newPoint)\n",
    "        #print('P(x|C2) = ', y2_newPoint,'\\n')\n",
    "\n",
    "        # Posterior Probabilities\n",
    "        y1_pos = y1_newPoint*p1 / (y1_newPoint*p1 + y2_newPoint*p2) #P(C1|x)\n",
    "        y2_pos =  y2_newPoint*p2 / (y1_newPoint*p1 + y2_newPoint*p2) #P(C2|x)\n",
    "\n",
    "        #print('Posterior probabilities:')\n",
    "        #print('P(C1|x) = ', y1_pos)\n",
    "        #print('P(C2|x) = ', y2_pos,'\\n')\n",
    "\n",
    "        if y1_pos > y2_pos:\n",
    "            #print('x = ',x,' belongs to class 1')\n",
    "            y[i] = 1;\n",
    "        else:\n",
    "            #print('x = ',x,' belongs to class 0')\n",
    "            y[i] = 0;\n",
    "\n",
    "    return y\n",
    "           "
   ]
  },
  {
   "cell_type": "code",
   "execution_count": 8,
   "metadata": {},
   "outputs": [
    {
     "name": "stdout",
     "output_type": "stream",
     "text": [
      "[[72  0]\n",
      " [ 0 68]]\n",
      "[[28  0]\n",
      " [ 0 32]]\n"
     ]
    }
   ],
   "source": [
    "X_train = np.array(data_Train.iloc[:,1:]);\n",
    "X_test =  np.array(data_Test.iloc[:,1:]);\n",
    "\n",
    "#Output for train data\n",
    "y1 = output(X_train,mu1,mu2,new_cov1,new_cov2)\n",
    "t1 = np.array(data_Train.iloc[:,:1])\n",
    "\n",
    "#Output for test data\n",
    "y2 = output(X_test,mu1,mu2,new_cov1,new_cov2)\n",
    "t2 = np.array(data_Test.iloc[:,:1])\n",
    "\n",
    "# Confusion Matrix for Train and Test data\n",
    "CM_Train = confusion_matrix(y1,t1)\n",
    "print(CM_Train)\n",
    "\n",
    "CM_Test = confusion_matrix(y2,t2)\n",
    "print(CM_Test)"
   ]
  },
  {
   "cell_type": "code",
   "execution_count": null,
   "metadata": {},
   "outputs": [],
   "source": []
  },
  {
   "cell_type": "markdown",
   "metadata": {},
   "source": [
    "---\n",
    "\n",
    "# Submit Your Solution\n",
    "\n",
    "Confirm that you've successfully completed the assignment.\n",
    "\n",
    "Along with the Notebook, include a PDF of the notebook with your solutions.\n",
    "\n",
    "```add``` and ```commit``` the final version of your work, and ```push``` your code to your GitHub repository.\n",
    "\n",
    "Submit the URL of your GitHub Repository as your assignment submission on Canvas.\n",
    "\n",
    "---"
   ]
  }
 ],
 "metadata": {
  "kernelspec": {
   "display_name": "Python 3 (ipykernel)",
   "language": "python",
   "name": "python3"
  },
  "language_info": {
   "codemirror_mode": {
    "name": "ipython",
    "version": 3
   },
   "file_extension": ".py",
   "mimetype": "text/x-python",
   "name": "python",
   "nbconvert_exporter": "python",
   "pygments_lexer": "ipython3",
   "version": "3.9.12"
  },
  "latex_envs": {
   "LaTeX_envs_menu_present": true,
   "autoclose": true,
   "autocomplete": true,
   "bibliofile": "biblio.bib",
   "cite_by": "apalike",
   "current_citInitial": 1,
   "eqLabelWithNumbers": true,
   "eqNumInitial": 1,
   "hotkeys": {
    "equation": "Ctrl-E",
    "itemize": "Ctrl-I"
   },
   "labels_anchors": false,
   "latex_user_defs": false,
   "report_style_numbering": false,
   "user_envs_cfg": false
  },
  "varInspector": {
   "cols": {
    "lenName": 16,
    "lenType": 16,
    "lenVar": 40
   },
   "kernels_config": {
    "python": {
     "delete_cmd_postfix": "",
     "delete_cmd_prefix": "del ",
     "library": "var_list.py",
     "varRefreshCmd": "print(var_dic_list())"
    },
    "r": {
     "delete_cmd_postfix": ") ",
     "delete_cmd_prefix": "rm(",
     "library": "var_list.r",
     "varRefreshCmd": "cat(var_dic_list()) "
    }
   },
   "types_to_exclude": [
    "module",
    "function",
    "builtin_function_or_method",
    "instance",
    "_Feature"
   ],
   "window_display": false
  }
 },
 "nbformat": 4,
 "nbformat_minor": 2
}

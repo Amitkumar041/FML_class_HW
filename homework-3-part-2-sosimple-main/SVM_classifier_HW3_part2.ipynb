{
 "cells": [
  {
   "cell_type": "markdown",
   "id": "8e29f21e",
   "metadata": {},
   "source": [
    "# Classification using Support Vector Machine (SVM)"
   ]
  },
  {
   "cell_type": "markdown",
   "id": "2c5614f6",
   "metadata": {},
   "source": [
    "This code performs image classification on the provided image data and labels using SVM"
   ]
  },
  {
   "cell_type": "markdown",
   "id": "23fde6ae",
   "metadata": {},
   "source": [
    "This model was trained on personal computer by Archit Jaiswal"
   ]
  },
  {
   "cell_type": "code",
   "execution_count": 12,
   "id": "c78eabaf",
   "metadata": {},
   "outputs": [],
   "source": [
    "import numpy as np\n",
    "from sklearn.svm import SVC\n",
    "from sklearn.model_selection import train_test_split\n",
    "from sklearn.preprocessing import StandardScaler\n",
    "import cv2\n",
    "\n",
    "import matplotlib.pyplot as plt\n",
    "%matplotlib inline"
   ]
  },
  {
   "cell_type": "markdown",
   "id": "5c9e1b96",
   "metadata": {},
   "source": [
    "The data was already preprocessed by rotating the images and correcting the labels"
   ]
  },
  {
   "cell_type": "code",
   "execution_count": 22,
   "id": "faaf70df",
   "metadata": {},
   "outputs": [
    {
     "name": "stdout",
     "output_type": "stream",
     "text": [
      "(90000, 9032) (9032,)\n"
     ]
    }
   ],
   "source": [
    "# Loading Data\n",
    "X = np.load('data_train_corrected.npy')\n",
    "labels = np.load('labels_train_corrected.npy')\n",
    "\n",
    "print(X.shape, labels.shape)"
   ]
  },
  {
   "cell_type": "code",
   "execution_count": 23,
   "id": "13a32ff7",
   "metadata": {
    "scrolled": true
   },
   "outputs": [],
   "source": [
    "# Scaling the data\n",
    "\n",
    "X_scaled = StandardScaler().fit_transform(X)"
   ]
  },
  {
   "cell_type": "code",
   "execution_count": 24,
   "id": "c04082b1",
   "metadata": {},
   "outputs": [],
   "source": [
    "# Partitioning the data into training set and test set\n",
    "\n",
    "X_train, X_test, labels_train, labels_test = train_test_split(X_scaled.T, labels, test_size=0.3)"
   ]
  },
  {
   "cell_type": "code",
   "execution_count": 25,
   "id": "1c33c873",
   "metadata": {},
   "outputs": [
    {
     "data": {
      "text/plain": [
       "(6322, 90000)"
      ]
     },
     "execution_count": 25,
     "metadata": {},
     "output_type": "execute_result"
    }
   ],
   "source": [
    "X_train.shape"
   ]
  },
  {
   "cell_type": "code",
   "execution_count": 26,
   "id": "23d945d0",
   "metadata": {},
   "outputs": [
    {
     "data": {
      "text/plain": [
       "(2710, 90000)"
      ]
     },
     "execution_count": 26,
     "metadata": {},
     "output_type": "execute_result"
    }
   ],
   "source": [
    "X_test.shape"
   ]
  },
  {
   "cell_type": "code",
   "execution_count": 27,
   "id": "5c04b9da",
   "metadata": {},
   "outputs": [
    {
     "data": {
      "text/plain": [
       "(6322,)"
      ]
     },
     "execution_count": 27,
     "metadata": {},
     "output_type": "execute_result"
    }
   ],
   "source": [
    "labels_train.shape"
   ]
  },
  {
   "cell_type": "code",
   "execution_count": 31,
   "id": "38e3d566",
   "metadata": {},
   "outputs": [
    {
     "data": {
      "text/plain": [
       "SVC(kernel='linear')"
      ]
     },
     "execution_count": 31,
     "metadata": {},
     "output_type": "execute_result"
    }
   ],
   "source": [
    "svc = SVC(kernel = 'linear')\n",
    "svc.fit(X_train, labels_train)"
   ]
  },
  {
   "cell_type": "code",
   "execution_count": 33,
   "id": "6e1eeddf",
   "metadata": {},
   "outputs": [],
   "source": [
    "predict_labels = svc.predict(X_test)"
   ]
  },
  {
   "cell_type": "code",
   "execution_count": 34,
   "id": "10276161",
   "metadata": {},
   "outputs": [],
   "source": [
    "from sklearn.metrics import accuracy_score\n",
    "\n",
    "accuracy = accuracy_score(labels_test, predict_labels)"
   ]
  },
  {
   "cell_type": "code",
   "execution_count": 36,
   "id": "0f1c0621",
   "metadata": {},
   "outputs": [
    {
     "name": "stdout",
     "output_type": "stream",
     "text": [
      "Prediction accuracy on test set:  0.46494464944649444\n"
     ]
    }
   ],
   "source": [
    "print('Prediction accuracy on test set: ', accuracy)"
   ]
  },
  {
   "cell_type": "code",
   "execution_count": 37,
   "id": "43677ae9",
   "metadata": {},
   "outputs": [],
   "source": [
    "predict_training_labels = svc.predict(X_train)"
   ]
  },
  {
   "cell_type": "code",
   "execution_count": 38,
   "id": "5a0d938b",
   "metadata": {},
   "outputs": [
    {
     "name": "stdout",
     "output_type": "stream",
     "text": [
      "Prediction accuracy on training set:  0.999841822208162\n"
     ]
    }
   ],
   "source": [
    "# accuracy on training data\n",
    "\n",
    "training_accuracy = accuracy_score(labels_train, predict_training_labels)\n",
    "print('Prediction accuracy on training set: ', training_accuracy)"
   ]
  },
  {
   "cell_type": "code",
   "execution_count": 39,
   "id": "136b985e",
   "metadata": {},
   "outputs": [
    {
     "data": {
      "text/plain": [
       "array([[614,   0,   0,   0,   0,   0,   0,   0,   0,   0,   0],\n",
       "       [  0, 620,   0,   0,   0,   0,   0,   0,   0,   0,   0],\n",
       "       [  0,   0, 605,   0,   0,   0,   0,   0,   0,   0,   0],\n",
       "       [  0,   0,   0, 623,   0,   0,   0,   0,   0,   0,   0],\n",
       "       [  0,   0,   0,   0, 642,   0,   0,   0,   0,   0,   0],\n",
       "       [  0,   0,   0,   0,   0, 614,   0,   0,   0,   0,   0],\n",
       "       [  0,   0,   0,   0,   0,   0, 620,   0,   0,   0,   0],\n",
       "       [  0,   0,   0,   0,   0,   0,   0, 636,   0,   0,   0],\n",
       "       [  0,   0,   0,   0,   0,   0,   0,   0, 624,   0,   0],\n",
       "       [  0,   0,   0,   0,   0,   0,   0,   0,   0, 636,   0],\n",
       "       [  0,   0,   0,   0,   0,   0,   0,   0,   0,   1,  87]],\n",
       "      dtype=int64)"
      ]
     },
     "execution_count": 39,
     "metadata": {},
     "output_type": "execute_result"
    }
   ],
   "source": [
    "# Confusion matrix for training set\n",
    "\n",
    "from sklearn.metrics import confusion_matrix\n",
    "\n",
    "confusion_matrix(labels_train, predict_training_labels)"
   ]
  },
  {
   "cell_type": "code",
   "execution_count": 40,
   "id": "14ae938d",
   "metadata": {},
   "outputs": [
    {
     "data": {
      "text/plain": [
       "array([[130,  13,  12,  12,  14,  27,  10,  10,  16,  23,   4],\n",
       "       [ 12, 178,   7,   7,  13,   9,  12,   9,   5,   9,  15],\n",
       "       [ 14,   9, 196,  19,   6,   3,  14,   9,  10,   4,   4],\n",
       "       [  4,  10,  32, 174,  18,   2,   4,   7,   7,   2,   9],\n",
       "       [ 24,   6,  15,  41,  95,  10,  11,   8,  12,  13,   3],\n",
       "       [ 50,  15,  19,  17,  34,  84,  19,  12,  14,  17,   2],\n",
       "       [ 22,  24,  10,  27,  19,  22, 116,   8,   6,  12,   9],\n",
       "       [ 12,  12,   4,  19,  18,  13,   5, 117,  34,   7,   8],\n",
       "       [ 32,  12,  17,  22,  21,  17,  15,  47,  71,   8,   7],\n",
       "       [ 20,  15,   8,   9,  39,  27,  11,  19,  13,  97,   4],\n",
       "       [  6,   1,   3,   1,   5,   2,   5,   2,   1,   2,   2]],\n",
       "      dtype=int64)"
      ]
     },
     "execution_count": 40,
     "metadata": {},
     "output_type": "execute_result"
    }
   ],
   "source": [
    "# Confusion matrix for test set\n",
    "\n",
    "confusion_matrix(labels_test, predict_labels)"
   ]
  },
  {
   "cell_type": "markdown",
   "id": "8f2738db",
   "metadata": {},
   "source": [
    "Due to a significant difference in accuracy of test set and training set, it can be concluded that the SVM classifier model is overfitting the training data. The model can be improved by using soft margin SVM. CNN model can provide far better classification accuracy compared to SVM. "
   ]
  },
  {
   "cell_type": "code",
   "execution_count": null,
   "id": "f0783584",
   "metadata": {},
   "outputs": [],
   "source": []
  }
 ],
 "metadata": {
  "kernelspec": {
   "display_name": "Python 3 (ipykernel)",
   "language": "python",
   "name": "python3"
  },
  "language_info": {
   "codemirror_mode": {
    "name": "ipython",
    "version": 3
   },
   "file_extension": ".py",
   "mimetype": "text/x-python",
   "name": "python",
   "nbconvert_exporter": "python",
   "pygments_lexer": "ipython3",
   "version": "3.9.12"
  }
 },
 "nbformat": 4,
 "nbformat_minor": 5
}

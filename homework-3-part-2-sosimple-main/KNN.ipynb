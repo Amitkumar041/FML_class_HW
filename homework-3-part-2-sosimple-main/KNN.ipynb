{
 "cells": [
  {
   "cell_type": "code",
   "execution_count": 31,
   "id": "aaaac8f7",
   "metadata": {},
   "outputs": [],
   "source": [
    "import numpy as np\n",
    "from sklearn.model_selection import train_test_split\n",
    "\n",
    "\n",
    "rawData = np.load('data_train_correct.npy')\n",
    "rawLabels = np.load('labels_train_corrected.npy')"
   ]
  },
  {
   "cell_type": "code",
   "execution_count": 32,
   "id": "92ab34a4",
   "metadata": {},
   "outputs": [
    {
     "name": "stdout",
     "output_type": "stream",
     "text": [
      "(90000,)\n"
     ]
    }
   ],
   "source": [
    "rawData = rawData.T\n",
    "print(rawData[4].shape)"
   ]
  },
  {
   "cell_type": "code",
   "execution_count": 33,
   "id": "42408159",
   "metadata": {},
   "outputs": [
    {
     "name": "stdout",
     "output_type": "stream",
     "text": [
      "(8914, 90000)\n",
      "(8914,)\n"
     ]
    }
   ],
   "source": [
    "data = []\n",
    "labels = []\n",
    "for i in range(9032):\n",
    "    if (rawLabels[i] != 10):\n",
    "        data.append(rawData[i])\n",
    "        labels.append(rawLabels[i])\n",
    "        \n",
    "data = np.array(data)\n",
    "labels = np.array(labels)\n",
    "        \n",
    "print(np.shape(data))\n",
    "print(np.shape(labels))"
   ]
  },
  {
   "cell_type": "code",
   "execution_count": 53,
   "id": "7701769a",
   "metadata": {},
   "outputs": [
    {
     "name": "stdout",
     "output_type": "stream",
     "text": [
      "(7131, 90000) (1783, 90000)\n"
     ]
    }
   ],
   "source": [
    "X_train, X_test, y_train, y_test = train_test_split(data, labels, test_size=0.2, random_state=1)\n",
    "print(X_train.shape, X_test.shape)"
   ]
  },
  {
   "cell_type": "code",
   "execution_count": 51,
   "id": "1a41d5ed",
   "metadata": {},
   "outputs": [
    {
     "name": "stdout",
     "output_type": "stream",
     "text": [
      "k value: 1 Accuracy: 0.4554122265844083\n",
      "k value: 2 Accuracy: 0.4178351093662367\n",
      "k value: 3 Accuracy: 0.42344363432417276\n",
      "k value: 4 Accuracy: 0.4195176668536175\n",
      "k value: 5 Accuracy: 0.41615255187885586\n",
      "k value: 6 Accuracy: 0.4094223219293326\n",
      "k value: 7 Accuracy: 0.4038137969713965\n",
      "k value: 8 Accuracy: 0.3841839596186203\n",
      "k value: 9 Accuracy: 0.3869882220975883\n"
     ]
    }
   ],
   "source": [
    "from sklearn.neighbors import KNeighborsClassifier\n",
    "from sklearn import metrics\n",
    "\n",
    "for k in range(1, 10):\n",
    "    knn = KNeighborsClassifier(n_neighbors=k)\n",
    "    knn.fit(X_train, y_train)\n",
    "    accuracy = knn.score(X_test, y_test)\n",
    "    print('k value:', k, 'Accuracy:', accuracy)"
   ]
  },
  {
   "cell_type": "code",
   "execution_count": 52,
   "id": "3072f270",
   "metadata": {},
   "outputs": [
    {
     "name": "stdout",
     "output_type": "stream",
     "text": [
      "              precision    recall  f1-score   support\n",
      "\n",
      "         0.0       0.46      0.37      0.41       183\n",
      "         1.0       0.50      0.39      0.44       166\n",
      "         2.0       0.47      0.53      0.50       194\n",
      "         3.0       0.37      0.76      0.50       180\n",
      "         4.0       0.43      0.52      0.47       192\n",
      "         5.0       0.46      0.41      0.44       173\n",
      "         6.0       0.60      0.46      0.52       180\n",
      "         7.0       0.63      0.40      0.49       179\n",
      "         8.0       0.34      0.27      0.30       174\n",
      "         9.0       0.46      0.43      0.44       162\n",
      "\n",
      "    accuracy                           0.46      1783\n",
      "   macro avg       0.47      0.45      0.45      1783\n",
      "weighted avg       0.47      0.46      0.45      1783\n",
      "\n"
     ]
    }
   ],
   "source": [
    "from sklearn.metrics import classification_report\n",
    "knn = KNeighborsClassifier(n_neighbors=1)\n",
    "knn.fit(X_train, y_train)\n",
    "y_pred = knn.predict(X_test)\n",
    "print(classification_report(y_test, y_pred))"
   ]
  },
  {
   "cell_type": "code",
   "execution_count": 60,
   "id": "b372b471",
   "metadata": {},
   "outputs": [],
   "source": [
    "from sklearn.metrics import confusion_matrix\n",
    "\n",
    "y_train_pred = knn.predict(X_train)"
   ]
  },
  {
   "cell_type": "code",
   "execution_count": 58,
   "id": "d78be8b3",
   "metadata": {},
   "outputs": [
    {
     "data": {
      "text/plain": [
       "array([[702,   0,   0,   0,   0,   0,   0,   0,   0,   0],\n",
       "       [  0, 730,   0,   0,   0,   0,   0,   0,   0,   0],\n",
       "       [  0,   0, 699,   0,   0,   0,   0,   0,   0,   0],\n",
       "       [  0,   0,   0, 712,   0,   0,   0,   0,   0,   0],\n",
       "       [  0,   0,   0,   0, 688,   0,   0,   0,   0,   0],\n",
       "       [  0,   0,   0,   0,   0, 724,   0,   0,   0,   0],\n",
       "       [  0,   0,   0,   0,   0,   0, 715,   0,   0,   0],\n",
       "       [  0,   0,   0,   0,   0,   0,   0, 706,   0,   0],\n",
       "       [  0,   0,   0,   0,   0,   0,   0,   0, 719,   0],\n",
       "       [  0,   0,   0,   0,   0,   0,   0,   0,   0, 736]], dtype=int64)"
      ]
     },
     "execution_count": 58,
     "metadata": {},
     "output_type": "execute_result"
    }
   ],
   "source": [
    "confusion_matrix(y_train, y_train_pred)"
   ]
  },
  {
   "cell_type": "code",
   "execution_count": 59,
   "id": "87ef85be",
   "metadata": {},
   "outputs": [
    {
     "data": {
      "text/plain": [
       "array([[ 67,  10,  14,  12,  13,  35,   8,   2,  13,   9],\n",
       "       [ 12,  65,  13,  18,  16,   7,   9,   1,  13,  12],\n",
       "       [  3,   2, 103,  57,   9,   4,   0,   5,   5,   6],\n",
       "       [  3,   0,  14, 136,  16,   3,   2,   0,   4,   2],\n",
       "       [  4,   5,   9,  52,  99,   3,   4,   1,   6,   9],\n",
       "       [ 17,  12,  15,  15,  15,  71,   9,   0,   9,  10],\n",
       "       [  7,   2,  12,  31,  15,   5,  83,   6,   9,  10],\n",
       "       [  7,  11,  13,  19,  15,   5,   7,  72,  21,   9],\n",
       "       [ 14,  16,  16,  15,  12,  12,   6,  23,  47,  13],\n",
       "       [ 12,   7,   8,  10,  19,   8,  11,   5,  13,  69]], dtype=int64)"
      ]
     },
     "execution_count": 59,
     "metadata": {},
     "output_type": "execute_result"
    }
   ],
   "source": [
    "confusion_matrix(y_test, y_pred)"
   ]
  }
 ],
 "metadata": {
  "kernelspec": {
   "display_name": "Python 3 (ipykernel)",
   "language": "python",
   "name": "python3"
  },
  "language_info": {
   "codemirror_mode": {
    "name": "ipython",
    "version": 3
   },
   "file_extension": ".py",
   "mimetype": "text/x-python",
   "name": "python",
   "nbconvert_exporter": "python",
   "pygments_lexer": "ipython3",
   "version": "3.9.7"
  }
 },
 "nbformat": 4,
 "nbformat_minor": 5
}
